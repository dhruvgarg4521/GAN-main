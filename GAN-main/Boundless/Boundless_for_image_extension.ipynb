{
  "cells": [
    {
      "cell_type": "markdown",
      "metadata": {
        "id": "Q698H5RrZLLv"
      },
      "source": [
        "# Boundless GAN for image extension\n",
        "\n",
        "Paper [Boundless: Generative Adversarial Networks for Image Extension](https://arxiv.org/pdf/1908.07007.pdf)\n"
      ]
    },
    {
      "cell_type": "markdown",
      "metadata": {
        "id": "HqlL-UdzC-52"
      },
      "source": [
        "# Importing the libraries"
      ]
    },
    {
      "cell_type": "code",
      "execution_count": 1,
      "metadata": {
        "colab": {
          "base_uri": "https://localhost:8080/"
        },
        "id": "8qmYbPY5azMX",
        "outputId": "fd5d93a1-3323-4797-fcba-b5e6889b65da"
      },
      "outputs": [
        {
          "ename": "ModuleNotFoundError",
          "evalue": "No module named 'tensorflow'",
          "output_type": "error",
          "traceback": [
            "\u001b[1;31m---------------------------------------------------------------------------\u001b[0m",
            "\u001b[1;31mModuleNotFoundError\u001b[0m                       Traceback (most recent call last)",
            "Cell \u001b[1;32mIn[1], line 1\u001b[0m\n\u001b[1;32m----> 1\u001b[0m \u001b[38;5;28;01mimport\u001b[39;00m \u001b[38;5;21;01mtensorflow\u001b[39;00m \u001b[38;5;28;01mas\u001b[39;00m \u001b[38;5;21;01mtf\u001b[39;00m\n\u001b[0;32m      2\u001b[0m \u001b[38;5;28;01mimport\u001b[39;00m \u001b[38;5;21;01mtensorflow_hub\u001b[39;00m \u001b[38;5;28;01mas\u001b[39;00m \u001b[38;5;21;01mhub\u001b[39;00m\n\u001b[0;32m      3\u001b[0m \u001b[38;5;28;01mfrom\u001b[39;00m \u001b[38;5;21;01mPIL\u001b[39;00m \u001b[38;5;28;01mimport\u001b[39;00m Image\n",
            "\u001b[1;31mModuleNotFoundError\u001b[0m: No module named 'tensorflow'"
          ]
        }
      ],
      "source": [
        "import tensorflow as tf\n",
        "import tensorflow_hub as hub\n",
        "from PIL import Image\n",
        "import numpy as np\n",
        "from matplotlib import pyplot as plt\n",
        "print(tf.__version__)\n",
        "print(hub.__version__)"
      ]
    },
    {
      "cell_type": "markdown",
      "metadata": {
        "id": "PuOyT_phDTDG"
      },
      "source": [
        "# Loading the image"
      ]
    },
    {
      "cell_type": "code",
      "execution_count": null,
      "metadata": {
        "id": "q2MJDZTTbVOD"
      },
      "outputs": [],
      "source": [
        "image = Image.open('/content/test5.jpeg')"
      ]
    },
    {
      "cell_type": "code",
      "execution_count": null,
      "metadata": {
        "colab": {
          "base_uri": "https://localhost:8080/",
          "height": 276
        },
        "id": "Mul63lAZbeOG",
        "outputId": "cdc01307-3d6a-46f8-e98e-4833738409df"
      },
      "outputs": [],
      "source": [
        "image"
      ]
    },
    {
      "cell_type": "code",
      "execution_count": null,
      "metadata": {
        "colab": {
          "base_uri": "https://localhost:8080/"
        },
        "id": "cGepMbHMbiDo",
        "outputId": "d3696d1d-ac19-44e9-d894-f0973277c79e"
      },
      "outputs": [],
      "source": [
        "image.size"
      ]
    },
    {
      "cell_type": "code",
      "execution_count": null,
      "metadata": {
        "colab": {
          "base_uri": "https://localhost:8080/"
        },
        "id": "LoGf2zItbnM8",
        "outputId": "d7866d0b-a900-4fee-db6f-fddbd96ba32a"
      },
      "outputs": [],
      "source": [
        "width, height = image.size\n",
        "print(width, height)"
      ]
    },
    {
      "cell_type": "code",
      "execution_count": null,
      "metadata": {
        "colab": {
          "base_uri": "https://localhost:8080/",
          "height": 274
        },
        "id": "IrDjaFWabuUk",
        "outputId": "38e3e6c1-579d-45c4-c975-6a0fb23cdb2f"
      },
      "outputs": [],
      "source": [
        "image = image.resize((257, 257))\n",
        "image"
      ]
    },
    {
      "cell_type": "code",
      "execution_count": null,
      "metadata": {
        "colab": {
          "base_uri": "https://localhost:8080/"
        },
        "id": "LKbjqmyrb0zO",
        "outputId": "2212f4e7-673b-4b4b-8954-bebf6fffa495"
      },
      "outputs": [],
      "source": [
        "image.size"
      ]
    },
    {
      "cell_type": "code",
      "execution_count": null,
      "metadata": {
        "colab": {
          "base_uri": "https://localhost:8080/",
          "height": 187
        },
        "id": "7OhMgmo3b3qu",
        "outputId": "a91cec85-d9a6-4399-e66b-29f218cb1c88"
      },
      "outputs": [],
      "source": [
        "type(image)"
      ]
    },
    {
      "cell_type": "code",
      "execution_count": 147,
      "metadata": {
        "id": "mccWiz_kb6L5"
      },
      "outputs": [],
      "source": [
        "image = np.array(image)"
      ]
    },
    {
      "cell_type": "code",
      "execution_count": null,
      "metadata": {
        "colab": {
          "base_uri": "https://localhost:8080/"
        },
        "id": "HpRVHZqTb93k",
        "outputId": "54043fd9-b0b9-46df-9ff3-3c0413eee0dd"
      },
      "outputs": [],
      "source": [
        "type(image)"
      ]
    },
    {
      "cell_type": "code",
      "execution_count": null,
      "metadata": {
        "colab": {
          "base_uri": "https://localhost:8080/",
          "height": 297
        },
        "id": "d4W6Q-pHcB1O",
        "outputId": "f1035e3d-45c1-483d-e4ca-58d6a981658e"
      },
      "outputs": [],
      "source": [
        "image"
      ]
    },
    {
      "cell_type": "code",
      "execution_count": null,
      "metadata": {
        "colab": {
          "base_uri": "https://localhost:8080/"
        },
        "id": "iaAFvWVbcSuw",
        "outputId": "d2893fff-6d80-440c-f528-82b2dc5a2cb1"
      },
      "outputs": [],
      "source": [
        "image.shape"
      ]
    },
    {
      "cell_type": "code",
      "execution_count": 151,
      "metadata": {
        "id": "5CrEXCeqcawJ"
      },
      "outputs": [],
      "source": [
        "image = np.expand_dims(image.astype(np.float32) / 255., axis = 0)"
      ]
    },
    {
      "cell_type": "code",
      "execution_count": null,
      "metadata": {
        "colab": {
          "base_uri": "https://localhost:8080/"
        },
        "id": "t3bkxcOackHB",
        "outputId": "98c07e56-69ad-48a8-9ec1-e309711de86e"
      },
      "outputs": [],
      "source": [
        "image.shape"
      ]
    },
    {
      "cell_type": "code",
      "execution_count": null,
      "metadata": {
        "colab": {
          "base_uri": "https://localhost:8080/"
        },
        "id": "cH6thDQocmcm",
        "outputId": "69510f65-1d56-47b4-8f56-872740fac3e9"
      },
      "outputs": [],
      "source": [
        "image"
      ]
    },
    {
      "cell_type": "markdown",
      "metadata": {
        "id": "h8X2ZPdHGzF1"
      },
      "source": [
        "# Executing the GAN"
      ]
    },
    {
      "cell_type": "code",
      "execution_count": 154,
      "metadata": {
        "id": "wlnPxibWdK3K"
      },
      "outputs": [],
      "source": [
        "models_links = {\n",
        "    'Boundless Half' : 'https://tfhub.dev/google/boundless/half/1',\n",
        "    'Boundless Quarter' : 'https://tfhub.dev/google/boundless/quarter/1',\n",
        "    'Boundless Three Quarters' : 'https://tfhub.dev/google/boundless/three_quarter/1'\n",
        "}"
      ]
    },
    {
      "cell_type": "code",
      "execution_count": 155,
      "metadata": {
        "id": "46Bww3E5dfmH"
      },
      "outputs": [],
      "source": [
        "model_name = 'Boundless Quarter' # @param ['Boundless Half', 'Boundless Quarter', 'Boundless Three Quarters']"
      ]
    },
    {
      "cell_type": "code",
      "execution_count": 156,
      "metadata": {
        "id": "nvYO4k-odtfZ"
      },
      "outputs": [],
      "source": [
        "model_path = models_links[model_name]"
      ]
    },
    {
      "cell_type": "code",
      "execution_count": 157,
      "metadata": {
        "id": "-4EFuhj-d0uu"
      },
      "outputs": [],
      "source": [
        "model = hub.load(model_path)"
      ]
    },
    {
      "cell_type": "code",
      "execution_count": 158,
      "metadata": {
        "id": "WTeHIowCd-_v"
      },
      "outputs": [],
      "source": [
        "result = model.signatures['default'](tf.constant(image))"
      ]
    },
    {
      "cell_type": "code",
      "execution_count": null,
      "metadata": {
        "colab": {
          "base_uri": "https://localhost:8080/"
        },
        "id": "J4FVPQ0leHTZ",
        "outputId": "29872d4b-a778-4f06-df52-855d4589c5e8"
      },
      "outputs": [],
      "source": [
        "result"
      ]
    },
    {
      "cell_type": "markdown",
      "metadata": {
        "id": "ghvFnkuYZwQO"
      },
      "source": [
        "## Visualizing the results"
      ]
    },
    {
      "cell_type": "code",
      "execution_count": 160,
      "metadata": {
        "id": "6V265aWJekiH"
      },
      "outputs": [],
      "source": [
        "generated_image = result['default']\n",
        "masked_image = result['masked_image']"
      ]
    },
    {
      "cell_type": "code",
      "execution_count": null,
      "metadata": {
        "colab": {
          "base_uri": "https://localhost:8080/"
        },
        "id": "d3HnLQ4IesSp",
        "outputId": "22098532-a861-4dd9-a2c4-9337e2be868d"
      },
      "outputs": [],
      "source": [
        "generated_image.shape, np.squeeze(generated_image).shape"
      ]
    },
    {
      "cell_type": "code",
      "execution_count": 162,
      "metadata": {
        "id": "7cRatI6Ae96O"
      },
      "outputs": [],
      "source": [
        "def visualize_results(original_image, masked_image, generated_image):\n",
        "  imgs = [original_image, masked_image, generated_image]\n",
        "  title = ['Original image', 'Masked image', 'Generated image']\n",
        "  plt.figure(figsize = (24,12))\n",
        "  for i, img in enumerate(imgs):\n",
        "    plt.subplot(1, 3, i + 1)\n",
        "    plt.imshow((np.squeeze(img)))\n",
        "    plt.title(title[i])\n",
        "    plt.axis('off')\n",
        "  plt.show()"
      ]
    },
    {
      "cell_type": "code",
      "execution_count": null,
      "metadata": {
        "colab": {
          "base_uri": "https://localhost:8080/",
          "height": 543
        },
        "id": "xTapLY4Gfnzs",
        "outputId": "d17f8413-a39c-4571-ed0f-098e67270247"
      },
      "outputs": [],
      "source": [
        "visualize_results(image, masked_image, generated_image)"
      ]
    },
    {
      "cell_type": "markdown",
      "metadata": {
        "id": "TiCLSYPkYD_6"
      },
      "source": [
        "---\n",
        "\n",
        "Based on: https://www.tensorflow.org/hub/tutorials/boundless"
      ]
    }
  ],
  "metadata": {
    "colab": {
      "provenance": []
    },
    "kernelspec": {
      "display_name": "Python 3",
      "name": "python3"
    },
    "language_info": {
      "codemirror_mode": {
        "name": "ipython",
        "version": 3
      },
      "file_extension": ".py",
      "mimetype": "text/x-python",
      "name": "python",
      "nbconvert_exporter": "python",
      "pygments_lexer": "ipython3",
      "version": "3.12.4"
    }
  },
  "nbformat": 4,
  "nbformat_minor": 0
}
